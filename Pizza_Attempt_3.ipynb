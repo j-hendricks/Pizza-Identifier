{
  "nbformat": 4,
  "nbformat_minor": 0,
  "metadata": {
    "colab": {
      "provenance": [],
      "collapsed_sections": []
    },
    "kernelspec": {
      "name": "python3",
      "display_name": "Python 3"
    },
    "language_info": {
      "name": "python"
    }
  },
  "cells": [
    {
      "cell_type": "code",
      "execution_count": null,
      "metadata": {
        "id": "fN2sosnnvOyy"
      },
      "outputs": [],
      "source": [
        "import os\n",
        "import zipfile\n",
        "import random\n",
        "import tensorflow as tf\n",
        "from tensorflow.keras.optimizers import RMSprop\n",
        "from tensorflow.keras.preprocessing.image import ImageDataGenerator\n",
        "from shutil import copyfile"
      ]
    },
    {
      "cell_type": "code",
      "source": [
        "from google.colab import files\n",
        "from IPython.display import Image"
      ],
      "metadata": {
        "id": "WdmlipB9vokg"
      },
      "execution_count": null,
      "outputs": []
    },
    {
      "cell_type": "code",
      "source": [
        "from google.colab import drive\n",
        "drive.mount('/content/gdrive')"
      ],
      "metadata": {
        "colab": {
          "base_uri": "https://localhost:8080/"
        },
        "id": "xGhcmhojv1lS",
        "outputId": "533ebdfa-7eb4-4861-a459-4f121a941d2a"
      },
      "execution_count": null,
      "outputs": [
        {
          "output_type": "stream",
          "name": "stdout",
          "text": [
            "Mounted at /content/gdrive\n"
          ]
        }
      ]
    },
    {
      "cell_type": "code",
      "source": [
        "local_zip = \"/content/gdrive/MyDrive/Colab Notebooks/is_it_pizza.zip\"\n",
        "zip_ref = zipfile.ZipFile(local_zip, 'r')\n",
        "zip_ref.extractall('/tmp')\n",
        "zip_ref.close()"
      ],
      "metadata": {
        "id": "7u_kCSFKv37K"
      },
      "execution_count": null,
      "outputs": []
    },
    {
      "cell_type": "code",
      "source": [
        "pizza_images = os.listdir('/tmp/pizza_not_pizza/pizza')\n",
        "not_pizza_images = os.listdir('/tmp/pizza_not_pizza/not_pizza')"
      ],
      "metadata": {
        "id": "8Ia8sIYBwvfE"
      },
      "execution_count": null,
      "outputs": []
    },
    {
      "cell_type": "code",
      "source": [
        "print(len(pizza_images))\n",
        "print(len(not_pizza_images))"
      ],
      "metadata": {
        "colab": {
          "base_uri": "https://localhost:8080/"
        },
        "id": "zFsku-oVxt8t",
        "outputId": "d2190b2b-095a-4782-eb8e-cc63cf2bb652"
      },
      "execution_count": null,
      "outputs": [
        {
          "output_type": "stream",
          "name": "stdout",
          "text": [
            "983\n",
            "983\n"
          ]
        }
      ]
    },
    {
      "cell_type": "code",
      "source": [
        "try:\n",
        "  os.mkdir(\"/tmp/pizza-not-pizza\")\n",
        "  os.mkdir(\"/tmp/pizza-not-pizza/training\")\n",
        "  os.mkdir(\"/tmp/pizza-not-pizza/test\")\n",
        "  os.mkdir(\"/tmp/pizza-not-pizza/training/pizza\")\n",
        "  os.mkdir(\"/tmp/pizza-not-pizza/training/not_pizza\")\n",
        "  os.mkdir(\"/tmp/pizza-not-pizza/test/pizza\")\n",
        "  os.mkdir(\"/tmp/pizza-not-pizza/test/not_pizza\")\n",
        "except OSError:\n",
        "  pass"
      ],
      "metadata": {
        "id": "h1s9_Bvyxx8O"
      },
      "execution_count": null,
      "outputs": []
    },
    {
      "cell_type": "code",
      "source": [
        "# to avoid bias, randomly assigne images to training or testing\n",
        "def split_data(SOURCE, TRAINING, TESTING, SPLIT_SIZE):\n",
        "    files = []\n",
        "    for filename in os.listdir(SOURCE):\n",
        "        file = SOURCE + filename\n",
        "        if os.path.getsize(file) > 0:\n",
        "            files.append(filename)\n",
        "        else:\n",
        "            print(filename + \" is zero length, so ignoring.\")\n",
        "\n",
        "    training_length = int(len(files) * SPLIT_SIZE)\n",
        "    testing_length = int(len(files) - training_length)\n",
        "    shuffled_set = random.sample(files, len(files))\n",
        "    training_set = shuffled_set[0:training_length]\n",
        "    testing_set = shuffled_set[-testing_length:]\n",
        "\n",
        "    for filename in training_set:\n",
        "        this_file = SOURCE + filename\n",
        "        destination = TRAINING + filename\n",
        "        copyfile(this_file, destination)\n",
        "\n",
        "    for filename in testing_set:\n",
        "        this_file = SOURCE + filename\n",
        "        destination = TESTING + filename\n",
        "        copyfile(this_file, destination)\n",
        "\n",
        "\n",
        "PIZZA_SOURCE_DIR = \"/tmp/pizza_not_pizza/pizza/\"\n",
        "TRAINING_PIZZA_DIR = \"/tmp/pizza-not-pizza/training/pizza/\"\n",
        "TEST_PIZZA_DIR = \"/tmp/pizza-not-pizza/test/pizza/\"\n",
        "NOT_PIZZA_SOURCE_DIR = \"/tmp/pizza_not_pizza/not_pizza/\"\n",
        "TRAINING_NOT_PIZZA_DIR = \"/tmp/pizza-not-pizza/training/not_pizza/\"\n",
        "TEST_NOT_PIZZA_DIR = \"/tmp/pizza-not-pizza/test/not_pizza/\"\n",
        "\n",
        "split_size = .9\n",
        "split_data(PIZZA_SOURCE_DIR, TRAINING_PIZZA_DIR, TEST_PIZZA_DIR, split_size)\n",
        "split_data(NOT_PIZZA_SOURCE_DIR, TRAINING_NOT_PIZZA_DIR, TEST_NOT_PIZZA_DIR, split_size)"
      ],
      "metadata": {
        "id": "IjhPQxaey3As"
      },
      "execution_count": null,
      "outputs": []
    },
    {
      "cell_type": "code",
      "source": [
        "print(len(os.listdir('/tmp/pizza-not-pizza/training/pizza/')))\n",
        "print(len(os.listdir('/tmp/pizza-not-pizza/test/pizza/')))\n",
        "print(len(os.listdir('/tmp/pizza-not-pizza/training/not_pizza/')))\n",
        "print(len(os.listdir('/tmp/pizza-not-pizza/test/not_pizza/')))"
      ],
      "metadata": {
        "colab": {
          "base_uri": "https://localhost:8080/"
        },
        "id": "Ts8yZByR_1jq",
        "outputId": "0bb1d791-68b7-4124-9584-25ad6b0247cb"
      },
      "execution_count": null,
      "outputs": [
        {
          "output_type": "stream",
          "name": "stdout",
          "text": [
            "884\n",
            "99\n",
            "884\n",
            "99\n"
          ]
        }
      ]
    },
    {
      "cell_type": "code",
      "source": [
        "base_model = tf.keras.applications.Xception(\n",
        "    weights='imagenet',  # Load weights pre-trained on ImageNet.\n",
        "    input_shape=(150, 150, 3),\n",
        "    include_top=False)  # Do not include the ImageNet classifier at the top."
      ],
      "metadata": {
        "id": "KU9uUxwJTUZ3",
        "colab": {
          "base_uri": "https://localhost:8080/"
        },
        "outputId": "caa6372b-2389-44e8-e366-b28cc5d5eeee"
      },
      "execution_count": null,
      "outputs": [
        {
          "output_type": "stream",
          "name": "stdout",
          "text": [
            "Downloading data from https://storage.googleapis.com/tensorflow/keras-applications/xception/xception_weights_tf_dim_ordering_tf_kernels_notop.h5\n",
            "83689472/83683744 [==============================] - 2s 0us/step\n",
            "83697664/83683744 [==============================] - 2s 0us/step\n"
          ]
        }
      ]
    },
    {
      "cell_type": "code",
      "source": [
        "base_model.trainable = False"
      ],
      "metadata": {
        "id": "PGEqwve-zV9_"
      },
      "execution_count": null,
      "outputs": []
    },
    {
      "cell_type": "code",
      "source": [
        "model = tf.keras.models.Sequential([\n",
        "    base_model,\n",
        "    tf.keras.layers.GlobalAveragePooling2D(),\n",
        "    tf.keras.layers.Dense(256, activation = 'relu'),\n",
        "    tf.keras.layers.Dense(2, activation='softmax')\n",
        "])"
      ],
      "metadata": {
        "id": "VqlvpZGyWeaO"
      },
      "execution_count": null,
      "outputs": []
    },
    {
      "cell_type": "code",
      "source": [
        "model.compile(optimizer=RMSprop(lr=0.0001), loss='sparse_categorical_crossentropy', metrics=['accuracy'])"
      ],
      "metadata": {
        "colab": {
          "base_uri": "https://localhost:8080/"
        },
        "id": "kLoZ3cpDBQXt",
        "outputId": "c7fd78b1-42bd-4173-8c54-f32264fbd682"
      },
      "execution_count": null,
      "outputs": [
        {
          "output_type": "stream",
          "name": "stderr",
          "text": [
            "/usr/local/lib/python3.7/dist-packages/keras/optimizer_v2/rmsprop.py:130: UserWarning: The `lr` argument is deprecated, use `learning_rate` instead.\n",
            "  super(RMSprop, self).__init__(name, **kwargs)\n"
          ]
        }
      ]
    },
    {
      "cell_type": "code",
      "source": [
        "TRAINING_DIR = \"/tmp/pizza-not-pizza/training\"\n",
        "train_datagen = ImageDataGenerator(rescale=1.0/255., width_shift_range = 0.1, height_shift_range = 0.1, horizontal_flip=True, vertical_flip= True, preprocessing_function= tf.keras.applications.resnet50.preprocess_input)\n",
        "train_generator = train_datagen.flow_from_directory(\n",
        "    TRAINING_DIR,\n",
        "    batch_size = 52,\n",
        "    class_mode = 'binary',\n",
        "    target_size = (150, 150))\n",
        "\n",
        "VALIDATION_DIR = \"/tmp/pizza-not-pizza/test\"\n",
        "validation_datagen = ImageDataGenerator(rescale=1.0/255.)\n",
        "validation_generator = validation_datagen.flow_from_directory(\n",
        "    VALIDATION_DIR,\n",
        "    batch_size = 9,\n",
        "    class_mode = 'binary',\n",
        "    target_size = (150, 150))"
      ],
      "metadata": {
        "colab": {
          "base_uri": "https://localhost:8080/"
        },
        "id": "w5yOsdz1Dy67",
        "outputId": "0288f65e-22a2-40dc-d568-7e91ebfd379e"
      },
      "execution_count": null,
      "outputs": [
        {
          "output_type": "stream",
          "name": "stdout",
          "text": [
            "Found 1768 images belonging to 2 classes.\n",
            "Found 198 images belonging to 2 classes.\n"
          ]
        }
      ]
    },
    {
      "cell_type": "code",
      "source": [
        "history = model.fit(train_generator, epochs = 5, steps_per_epoch = 17, \n",
        "                    validation_data = validation_generator, validation_steps = 11)"
      ],
      "metadata": {
        "colab": {
          "base_uri": "https://localhost:8080/"
        },
        "id": "TOBo3blqH9ef",
        "outputId": "96d5a217-9ef0-44e8-f579-5ed48d429826"
      },
      "execution_count": null,
      "outputs": [
        {
          "output_type": "stream",
          "name": "stdout",
          "text": [
            "Epoch 1/5\n",
            "17/17 [==============================] - 63s 4s/step - loss: 0.5408 - accuracy: 0.7183 - val_loss: 0.3272 - val_accuracy: 0.8384\n",
            "Epoch 2/5\n",
            "17/17 [==============================] - 59s 3s/step - loss: 0.3849 - accuracy: 0.8507 - val_loss: 0.2957 - val_accuracy: 0.8586\n",
            "Epoch 3/5\n",
            "17/17 [==============================] - 59s 3s/step - loss: 0.3489 - accuracy: 0.8552 - val_loss: 0.2211 - val_accuracy: 0.9091\n",
            "Epoch 4/5\n",
            "17/17 [==============================] - 59s 3s/step - loss: 0.3173 - accuracy: 0.8609 - val_loss: 0.1686 - val_accuracy: 0.9596\n",
            "Epoch 5/5\n",
            "17/17 [==============================] - 60s 4s/step - loss: 0.3121 - accuracy: 0.8744 - val_loss: 0.2021 - val_accuracy: 0.9192\n"
          ]
        }
      ]
    },
    {
      "cell_type": "code",
      "source": [
        "%matplotlib inline\n",
        "\n",
        "import matplotlib.image  as mpimg\n",
        "import matplotlib.pyplot as plt\n",
        "\n",
        "#-----------------------------------------------------------\n",
        "# Retrieve a list of list results on training and test data\n",
        "# sets for each training epoch\n",
        "#-----------------------------------------------------------\n",
        "acc=history.history['accuracy']\n",
        "val_acc=history.history['val_accuracy']\n",
        "loss=history.history['loss']\n",
        "val_loss=history.history['val_loss']\n",
        "\n",
        "epochs=range(len(acc)) # Get number of epochs\n",
        "\n",
        "#------------------------------------------------\n",
        "# Plot training and validation accuracy per epoch\n",
        "#------------------------------------------------\n",
        "plt.plot(epochs, acc, 'r', \"Training Accuracy\")\n",
        "plt.plot(epochs, val_acc, 'b', \"Validation Accuracy\")\n",
        "plt.title('Training and validation accuracy')\n",
        "plt.figure()\n",
        "\n",
        "#------------------------------------------------\n",
        "# Plot training and validation loss per epoch\n",
        "#------------------------------------------------\n",
        "plt.plot(epochs, loss, 'r', \"Training Loss\")\n",
        "plt.plot(epochs, val_loss, 'b', \"Validation Loss\")\n",
        "plt.figure()\n",
        "\n",
        "\n",
        "# Desired output. Charts with training and validation metrics. "
      ],
      "metadata": {
        "colab": {
          "base_uri": "https://localhost:8080/",
          "height": 565
        },
        "id": "XSHduuYcMPPA",
        "outputId": "25cd8745-38a2-47c8-cd7f-1ba925827eea"
      },
      "execution_count": null,
      "outputs": [
        {
          "output_type": "execute_result",
          "data": {
            "text/plain": [
              "<Figure size 432x288 with 0 Axes>"
            ]
          },
          "metadata": {},
          "execution_count": 17
        },
        {
          "output_type": "display_data",
          "data": {
            "text/plain": [
              "<Figure size 432x288 with 1 Axes>"
            ],
            "image/png": "[encoded data removed]"
          },
          "metadata": {
            "needs_background": "light"
          }
        },
        {
          "output_type": "display_data",
          "data": {
            "text/plain": [
              "<Figure size 432x288 with 1 Axes>"
            ],
            "image/png": "[encoded data removed]"
          },
          "metadata": {
            "needs_background": "light"
          }
        },
        {
          "output_type": "display_data",
          "data": {
            "text/plain": [
              "<Figure size 432x288 with 0 Axes>"
            ]
          },
          "metadata": {}
        }
      ]
    }
  ]
}