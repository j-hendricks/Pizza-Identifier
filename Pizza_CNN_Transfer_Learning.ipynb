{
  "nbformat": 4,
  "nbformat_minor": 0,
  "metadata": {
    "colab": {
      "provenance": [],
      "collapsed_sections": []
    },
    "kernelspec": {
      "name": "python3",
      "display_name": "Python 3"
    },
    "language_info": {
      "name": "python"
    },
    "accelerator": "GPU",
    "gpuClass": "standard"
  },
  "cells": [
    {
      "cell_type": "code",
      "execution_count": null,
      "metadata": {
        "id": "fN2sosnnvOyy"
      },
      "outputs": [],
      "source": [
        "import os\n",
        "import zipfile\n",
        "import random\n",
        "import tensorflow as tf\n",
        "from tensorflow.keras.optimizers import RMSprop\n",
        "from tensorflow.keras.preprocessing.image import ImageDataGenerator\n",
        "from shutil import copyfile"
      ]
    },
    {
      "cell_type": "code",
      "source": [
        "from google.colab import files\n",
        "from IPython.display import Image"
      ],
      "metadata": {
        "id": "WdmlipB9vokg"
      },
      "execution_count": null,
      "outputs": []
    },
    {
      "cell_type": "code",
      "source": [
        "from google.colab import drive\n",
        "drive.mount('/content/gdrive')"
      ],
      "metadata": {
        "colab": {
          "base_uri": "https://localhost:8080/"
        },
        "id": "xGhcmhojv1lS",
        "outputId": "e610c407-1327-408d-f8a2-21561742128b"
      },
      "execution_count": null,
      "outputs": [
        {
          "output_type": "stream",
          "name": "stdout",
          "text": [
            "Drive already mounted at /content/gdrive; to attempt to forcibly remount, call drive.mount(\"/content/gdrive\", force_remount=True).\n"
          ]
        }
      ]
    },
    {
      "cell_type": "code",
      "source": [
        "local_zip = \"/content/gdrive/MyDrive/Colab Notebooks/is_it_pizza.zip\"\n",
        "zip_ref = zipfile.ZipFile(local_zip, 'r')\n",
        "zip_ref.extractall('/tmp')\n",
        "zip_ref.close()"
      ],
      "metadata": {
        "id": "7u_kCSFKv37K"
      },
      "execution_count": null,
      "outputs": []
    },
    {
      "cell_type": "code",
      "source": [
        "pizza_images = os.listdir('/tmp/pizza_not_pizza/pizza')\n",
        "not_pizza_images = os.listdir('/tmp/pizza_not_pizza/not_pizza')"
      ],
      "metadata": {
        "id": "8Ia8sIYBwvfE"
      },
      "execution_count": null,
      "outputs": []
    },
    {
      "cell_type": "code",
      "source": [
        "print(len(pizza_images))\n",
        "print(len(not_pizza_images))"
      ],
      "metadata": {
        "colab": {
          "base_uri": "https://localhost:8080/"
        },
        "id": "zFsku-oVxt8t",
        "outputId": "2d7971ad-96af-4f9c-b46c-406cfc1fe35a"
      },
      "execution_count": null,
      "outputs": [
        {
          "output_type": "stream",
          "name": "stdout",
          "text": [
            "983\n",
            "983\n"
          ]
        }
      ]
    },
    {
      "cell_type": "code",
      "source": [
        "try:\n",
        "  os.mkdir(\"/tmp/pizza-not-pizza\")\n",
        "  os.mkdir(\"/tmp/pizza-not-pizza/training\")\n",
        "  os.mkdir(\"/tmp/pizza-not-pizza/test\")\n",
        "  os.mkdir(\"/tmp/pizza-not-pizza/training/pizza\")\n",
        "  os.mkdir(\"/tmp/pizza-not-pizza/training/not_pizza\")\n",
        "  os.mkdir(\"/tmp/pizza-not-pizza/test/pizza\")\n",
        "  os.mkdir(\"/tmp/pizza-not-pizza/test/not_pizza\")\n",
        "except OSError:\n",
        "  pass"
      ],
      "metadata": {
        "id": "h1s9_Bvyxx8O"
      },
      "execution_count": null,
      "outputs": []
    },
    {
      "cell_type": "code",
      "source": [
        "# to avoid bias, randomly assigne images to training or testing\n",
        "def split_data(SOURCE, TRAINING, TESTING, SPLIT_SIZE):\n",
        "    files = []\n",
        "    for filename in os.listdir(SOURCE):\n",
        "        file = SOURCE + filename\n",
        "        if os.path.getsize(file) > 0:\n",
        "            files.append(filename)\n",
        "        else:\n",
        "            print(filename + \" is zero length, so ignoring.\")\n",
        "\n",
        "    training_length = int(len(files) * SPLIT_SIZE)\n",
        "    testing_length = int(len(files) - training_length)\n",
        "    shuffled_set = random.sample(files, len(files))\n",
        "    training_set = shuffled_set[0:training_length]\n",
        "    testing_set = shuffled_set[-testing_length:]\n",
        "\n",
        "    for filename in training_set:\n",
        "        this_file = SOURCE + filename\n",
        "        destination = TRAINING + filename\n",
        "        copyfile(this_file, destination)\n",
        "\n",
        "    for filename in testing_set:\n",
        "        this_file = SOURCE + filename\n",
        "        destination = TESTING + filename\n",
        "        copyfile(this_file, destination)\n",
        "\n",
        "\n",
        "PIZZA_SOURCE_DIR = \"/tmp/pizza_not_pizza/pizza/\"\n",
        "TRAINING_PIZZA_DIR = \"/tmp/pizza-not-pizza/training/pizza/\"\n",
        "TEST_PIZZA_DIR = \"/tmp/pizza-not-pizza/test/pizza/\"\n",
        "NOT_PIZZA_SOURCE_DIR = \"/tmp/pizza_not_pizza/not_pizza/\"\n",
        "TRAINING_NOT_PIZZA_DIR = \"/tmp/pizza-not-pizza/training/not_pizza/\"\n",
        "TEST_NOT_PIZZA_DIR = \"/tmp/pizza-not-pizza/test/not_pizza/\"\n",
        "\n",
        "split_size = .9\n",
        "split_data(PIZZA_SOURCE_DIR, TRAINING_PIZZA_DIR, TEST_PIZZA_DIR, split_size)\n",
        "split_data(NOT_PIZZA_SOURCE_DIR, TRAINING_NOT_PIZZA_DIR, TEST_NOT_PIZZA_DIR, split_size)"
      ],
      "metadata": {
        "id": "IjhPQxaey3As"
      },
      "execution_count": null,
      "outputs": []
    },
    {
      "cell_type": "code",
      "source": [
        "print(len(os.listdir('/tmp/pizza-not-pizza/training/pizza/')))\n",
        "print(len(os.listdir('/tmp/pizza-not-pizza/test/pizza/')))\n",
        "print(len(os.listdir('/tmp/pizza-not-pizza/training/not_pizza/')))\n",
        "print(len(os.listdir('/tmp/pizza-not-pizza/test/not_pizza/')))"
      ],
      "metadata": {
        "colab": {
          "base_uri": "https://localhost:8080/"
        },
        "id": "Ts8yZByR_1jq",
        "outputId": "0c69ce64-e1bf-4fd3-a61f-4a0909e8d1c8"
      },
      "execution_count": null,
      "outputs": [
        {
          "output_type": "stream",
          "name": "stdout",
          "text": [
            "884\n",
            "99\n",
            "884\n",
            "99\n"
          ]
        }
      ]
    },
    {
      "cell_type": "code",
      "source": [
        "base_model = tf.keras.applications.Xception(\n",
        "    weights='imagenet',  # Load weights pre-trained on ImageNet.\n",
        "    input_shape=(150, 150, 3),\n",
        "    include_top=False)  # Do not include the ImageNet classifier at the top."
      ],
      "metadata": {
        "id": "kLoZ3cpDBQXt"
      },
      "execution_count": null,
      "outputs": []
    },
    {
      "cell_type": "code",
      "source": [
        "base_model.trainable = False"
      ],
      "metadata": {
        "id": "4xUxcP_jFaJC"
      },
      "execution_count": null,
      "outputs": []
    },
    {
      "cell_type": "code",
      "source": [
        "inputs = tf.keras.Input(shape=(150, 150, 3))\n",
        "\n",
        "# scale_layer = tf.keras.layers.Rescaling(scale=1 / 127.5, offset=-1)\n",
        "# x = scale_layer(inputs)\n",
        "\n",
        "# We make sure that the base_model is running in inference mode here,\n",
        "# by passing `training=False`. This is important for fine-tuning, as you will\n",
        "# learn in a few paragraphs.\n",
        "x = base_model(inputs, training=False)\n",
        "\n",
        "\n",
        "# Convert features of shape `base_model.output_shape[1:]` to vectors\n",
        "x = tf.keras.layers.GlobalAveragePooling2D()(x)\n",
        "x = tf.keras.layers.Dropout(0.2)(x)\n",
        "# A Dense classifier with a single unit (binary classification)\n",
        "outputs = tf.keras.layers.Dense(1)(x)\n",
        "model = tf.keras.Model(inputs, outputs)"
      ],
      "metadata": {
        "id": "Ybm2pWpsFb_G"
      },
      "execution_count": null,
      "outputs": []
    },
    {
      "cell_type": "code",
      "source": [
        "model.compile(optimizer= tf.keras.optimizers.Adam(),\n",
        "              loss= tf.keras.losses.BinaryCrossentropy(from_logits=True),\n",
        "              metrics=[tf.keras.metrics.BinaryAccuracy()])"
      ],
      "metadata": {
        "id": "v12y1jCdFeHR"
      },
      "execution_count": null,
      "outputs": []
    },
    {
      "cell_type": "code",
      "source": [
        "TRAINING_DIR = \"/tmp/pizza-not-pizza/training\"\n",
        "train_datagen = ImageDataGenerator(rescale=1.0/255., width_shift_range = 0.1, height_shift_range = 0.1, horizontal_flip=True, vertical_flip= True)\n",
        "train_generator = train_datagen.flow_from_directory(\n",
        "    TRAINING_DIR,\n",
        "    batch_size = 52,\n",
        "    class_mode = 'binary',\n",
        "    target_size = (150, 150))\n",
        "\n",
        "VALIDATION_DIR = \"/tmp/pizza-not-pizza/test\"\n",
        "validation_datagen = ImageDataGenerator(rescale=1.0/255.)\n",
        "validation_generator = validation_datagen.flow_from_directory(\n",
        "    VALIDATION_DIR,\n",
        "    batch_size = 9,\n",
        "    class_mode = 'binary',\n",
        "    target_size = (150, 150))"
      ],
      "metadata": {
        "colab": {
          "base_uri": "https://localhost:8080/"
        },
        "id": "w5yOsdz1Dy67",
        "outputId": "42a8de16-0ad3-49b9-f084-c8bf12cf5b0b"
      },
      "execution_count": null,
      "outputs": [
        {
          "output_type": "stream",
          "name": "stdout",
          "text": [
            "Found 1768 images belonging to 2 classes.\n",
            "Found 198 images belonging to 2 classes.\n"
          ]
        }
      ]
    },
    {
      "cell_type": "code",
      "source": [
        "earlyStop = tf.keras.callbacks.EarlyStopping(min_delta=0.01, patience=2, restore_best_weights = True)"
      ],
      "metadata": {
        "id": "XApiGQoFFvoM"
      },
      "execution_count": null,
      "outputs": []
    },
    {
      "cell_type": "code",
      "source": [
        "history = model.fit(train_generator, epochs = 20, steps_per_epoch = 17, \n",
        "                    validation_data = validation_generator, validation_steps = 11, callbacks = [earlyStop])"
      ],
      "metadata": {
        "colab": {
          "base_uri": "https://localhost:8080/"
        },
        "id": "TOBo3blqH9ef",
        "outputId": "292f5678-a84e-44a9-a472-fd9a14cee4f8"
      },
      "execution_count": null,
      "outputs": [
        {
          "output_type": "stream",
          "name": "stdout",
          "text": [
            "Epoch 1/20\n",
            "17/17 [==============================] - 20s 567ms/step - loss: 0.5217 - binary_accuracy: 0.6878 - val_loss: 0.2543 - val_binary_accuracy: 0.9394\n",
            "Epoch 2/20\n",
            "17/17 [==============================] - 9s 507ms/step - loss: 0.3235 - binary_accuracy: 0.8631 - val_loss: 0.1574 - val_binary_accuracy: 0.9394\n",
            "Epoch 3/20\n",
            "17/17 [==============================] - 9s 501ms/step - loss: 0.2656 - binary_accuracy: 0.8744 - val_loss: 0.1361 - val_binary_accuracy: 0.9697\n",
            "Epoch 4/20\n",
            "17/17 [==============================] - 10s 600ms/step - loss: 0.2535 - binary_accuracy: 0.8880 - val_loss: 0.2124 - val_binary_accuracy: 0.9091\n",
            "Epoch 5/20\n",
            "17/17 [==============================] - 9s 538ms/step - loss: 0.2465 - binary_accuracy: 0.8959 - val_loss: 0.1776 - val_binary_accuracy: 0.8990\n"
          ]
        }
      ]
    },
    {
      "cell_type": "code",
      "source": [
        "%matplotlib inline\n",
        "\n",
        "import matplotlib.image  as mpimg\n",
        "import matplotlib.pyplot as plt\n",
        "\n",
        "#-----------------------------------------------------------\n",
        "# Retrieve a list of list results on training and test data\n",
        "# sets for each training epoch\n",
        "#-----------------------------------------------------------\n",
        "acc=history.history['binary_accuracy']\n",
        "val_acc=history.history['val_binary_accuracy']\n",
        "loss=history.history['loss']\n",
        "val_loss=history.history['val_loss']\n",
        "\n",
        "epochs=range(len(acc)) # Get number of epochs\n",
        "\n",
        "#------------------------------------------------\n",
        "# Plot training and validation accuracy per epoch\n",
        "#------------------------------------------------\n",
        "plt.plot(epochs, acc, 'r', \"Training Accuracy\")\n",
        "plt.plot(epochs, val_acc, 'b', \"Validation Accuracy\")\n",
        "plt.title('Training and validation accuracy')\n",
        "plt.figure()\n",
        "\n",
        "#------------------------------------------------\n",
        "# Plot training and validation loss per epoch\n",
        "#------------------------------------------------\n",
        "plt.plot(epochs, loss, 'r', \"Training Loss\")\n",
        "plt.plot(epochs, val_loss, 'b', \"Validation Loss\")\n",
        "plt.figure()\n",
        "\n",
        "\n",
        "# Desired output. Charts with training and validation metrics. "
      ],
      "metadata": {
        "colab": {
          "base_uri": "https://localhost:8080/",
          "height": 565
        },
        "id": "XSHduuYcMPPA",
        "outputId": "bf202a4a-2b72-4ada-fde1-c0ca4091a33e"
      },
      "execution_count": null,
      "outputs": [
        {
          "output_type": "execute_result",
          "data": {
            "text/plain": [
              "<Figure size 432x288 with 0 Axes>"
            ]
          },
          "metadata": {},
          "execution_count": 17
        },
        {
          "output_type": "display_data",
          "data": {
            "text/plain": [
              "<Figure size 432x288 with 1 Axes>"
            ],
            "image/png": "[encoded data removed]"
          },
          "metadata": {
            "needs_background": "light"
          }
        },
        {
          "output_type": "display_data",
          "data": {
            "text/plain": [
              "<Figure size 432x288 with 1 Axes>"
            ],
            "image/png": "[encoded data removed]"
          },
          "metadata": {
            "needs_background": "light"
          }
        },
        {
          "output_type": "display_data",
          "data": {
            "text/plain": [
              "<Figure size 432x288 with 0 Axes>"
            ]
          },
          "metadata": {}
        }
      ]
    },
    {
      "cell_type": "code",
      "source": [
        "# Unfreeze the base model\n",
        "base_model.trainable = True\n",
        "\n",
        "# It's important to recompile your model after you make any changes\n",
        "# to the `trainable` attribute of any inner layer, so that your changes\n",
        "# are take into account\n",
        "model.compile(optimizer= tf.keras.optimizers.Adam(1e-5),  # Very low learning rate\n",
        "              loss= tf.keras.losses.BinaryCrossentropy(from_logits=True),\n",
        "              metrics=[tf.keras.metrics.BinaryAccuracy()])\n",
        "\n",
        "# Train end-to-end. Be careful to stop before you overfit!\n",
        "model.fit(train_generator, epochs=10, callbacks=[earlyStop], validation_data=validation_generator, steps_per_epoch = 17, validation_steps = 11)"
      ],
      "metadata": {
        "colab": {
          "base_uri": "https://localhost:8080/"
        },
        "id": "8GzxXZARHcVB",
        "outputId": "808bd420-ba8c-4e28-bce1-e4e7ded75d85"
      },
      "execution_count": null,
      "outputs": [
        {
          "output_type": "stream",
          "name": "stdout",
          "text": [
            "Epoch 1/10\n",
            "17/17 [==============================] - 19s 697ms/step - loss: 0.2519 - binary_accuracy: 0.8869 - val_loss: 0.1611 - val_binary_accuracy: 0.9394\n",
            "Epoch 2/10\n",
            "17/17 [==============================] - 11s 628ms/step - loss: 0.2398 - binary_accuracy: 0.8869 - val_loss: 0.1558 - val_binary_accuracy: 0.9495\n",
            "Epoch 3/10\n",
            "17/17 [==============================] - 11s 627ms/step - loss: 0.1973 - binary_accuracy: 0.9208 - val_loss: 0.1247 - val_binary_accuracy: 0.9495\n",
            "Epoch 4/10\n",
            "17/17 [==============================] - 11s 620ms/step - loss: 0.1993 - binary_accuracy: 0.9163 - val_loss: 0.1573 - val_binary_accuracy: 0.9293\n",
            "Epoch 5/10\n",
            "17/17 [==============================] - 11s 627ms/step - loss: 0.1677 - binary_accuracy: 0.9344 - val_loss: 0.1454 - val_binary_accuracy: 0.9293\n"
          ]
        },
        {
          "output_type": "execute_result",
          "data": {
            "text/plain": [
              "<keras.callbacks.History at 0x7fa5c80fe950>"
            ]
          },
          "metadata": {},
          "execution_count": 18
        }
      ]
    },
    {
      "cell_type": "code",
      "source": [
        "# import shutil \n",
        "\n",
        "# shutil.rmtree('/tmp/pizza-not-pizza')"
      ],
      "metadata": {
        "id": "-09FBw_cJIRd"
      },
      "execution_count": null,
      "outputs": []
    }
  ]
}